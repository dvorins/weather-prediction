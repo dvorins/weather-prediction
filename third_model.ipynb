{
 "cells": [
  {
   "cell_type": "code",
   "execution_count": 9,
   "metadata": {},
   "outputs": [
    {
     "name": "stdout",
     "output_type": "stream",
     "text": [
      "     temp  dew point  humidity wind speed            datetime\n",
      "228    46         32        58          5 2024-02-01 00:51:00\n",
      "202    39         30        70          0 2024-02-01 01:46:00\n",
      "203    40         30        68          0 2024-02-01 01:51:00\n",
      "204    39         30        70          5 2024-02-01 02:46:00\n",
      "205    40         29        65          6 2024-02-01 02:51:00\n"
     ]
    }
   ],
   "source": [
    "import os\n",
    "import pandas as pd\n",
    "\n",
    "# Function to parse data from a single file\n",
    "def parse_file(file_path):\n",
    "    data = []\n",
    "    date = os.path.basename(file_path).split('.')[0]  # Extract date from filename\n",
    "    with open(file_path, 'r') as file:\n",
    "        for line in file:\n",
    "            parts = line.strip().split()\n",
    "            if len(parts) >= 10:\n",
    "                time = parts[0]\n",
    "                am_pm = parts[1]\n",
    "                temp = int(parts[2])\n",
    "                dew_point = int(parts[4])\n",
    "                humidity = int(parts[6])\n",
    "                wind_speed = parts[9]\n",
    "                data.append([date, time, am_pm, temp, dew_point, humidity, wind_speed])\n",
    "    return data\n",
    "\n",
    "# Folder containing text files\n",
    "nyc_folder_path = '/Users/samdvorin/Desktop/code/542/weather-prediction/nyc_weather_data'\n",
    "chi_folder_path = '/Users/samdvorin/Desktop/code/542/weather-prediction/chi_weather_data'\n",
    "mia_folder_path = '/Users/samdvorin/Desktop/code/542/weather-prediction/miami_weather_data'\n",
    "aus_folder_path = '/Users/samdvorin/Desktop/code/542/weather-prediction/austin_weather_data'\n",
    "\n",
    "\n",
    "# List to store data from all files\n",
    "nyc_all_data = []\n",
    "\n",
    "# Iterate through all files in the folder\n",
    "for file_name in os.listdir(nyc_folder_path):\n",
    "    if file_name.endswith('.txt'):\n",
    "        file_path = os.path.join(nyc_folder_path, file_name)\n",
    "        nyc_all_data.extend(parse_file(file_path))\n",
    "\n",
    "# Create a DataFrame from the combined data\n",
    "nyc_df = pd.DataFrame(nyc_all_data, columns=['date', 'time', 'am/pm', 'temp', 'dew point', 'humidity', 'wind speed'])\n",
    "\n",
    "# Combine date, time, and am/pm into a single datetime column\n",
    "nyc_df['datetime'] = pd.to_datetime(nyc_df['date'] + ' ' + nyc_df['time'] + ' ' + nyc_df['am/pm'], format='%Y-%m-%d %I:%M %p')\n",
    "\n",
    "# Drop the original date, time, and am/pm columns\n",
    "nyc_df.drop(['date', 'time', 'am/pm'], axis=1, inplace=True)\n",
    "\n",
    "# Sort the DataFrame by the datetime column\n",
    "nyc_df.sort_values(by='datetime', inplace=True)\n",
    "\n",
    "print(nyc_df.head())"
   ]
  },
  {
   "cell_type": "code",
   "execution_count": 8,
   "metadata": {},
   "outputs": [
    {
     "name": "stdout",
     "output_type": "stream",
     "text": [
      "     temp  dew point  humidity wind speed            datetime\n",
      "228    46         32        58          5 2024-02-01 00:51:00\n",
      "202    39         30        70          0 2024-02-01 01:46:00\n",
      "203    40         30        68          0 2024-02-01 01:51:00\n",
      "204    39         30        70          5 2024-02-01 02:46:00\n",
      "205    40         29        65          6 2024-02-01 02:51:00\n",
      "..    ...        ...       ...        ...                 ...\n",
      "512    68         50        52          9 2024-03-15 11:51:00\n",
      "513    69         49        49         23 2024-03-15 12:51:00\n",
      "514    68         48        49         15 2024-03-15 13:51:00\n",
      "515    68         46        45         16 2024-03-15 14:51:00\n",
      "516    69         41        36         21 2024-03-15 15:51:00\n",
      "\n",
      "[1159 rows x 5 columns]\n"
     ]
    }
   ],
   "source": [
    "### testing to see if it works\n",
    "# Make a hard copy of the DataFrame\n",
    "df_copy = nyc_df.copy()\n",
    "\n",
    "# Combine date, time, and am/pm into a single datetime column\n",
    "df_copy['datetime'] = pd.to_datetime(df_copy['date'] + ' ' + df_copy['time'] + ' ' + df_copy['am/pm'], format='%Y-%m-%d %I:%M %p')\n",
    "\n",
    "# Drop the original date, time, and am/pm columns\n",
    "df_copy.drop(['date', 'time', 'am/pm'], axis=1, inplace=True)\n",
    "\n",
    "# Sort the DataFrame by the datetime column\n",
    "df_copy.sort_values(by='datetime', inplace=True)\n",
    "\n",
    "print(df_copy)\n",
    "\n",
    "df_copy.to_csv('316test2.csv', index=False)"
   ]
  },
  {
   "cell_type": "code",
   "execution_count": null,
   "metadata": {},
   "outputs": [],
   "source": []
  },
  {
   "cell_type": "code",
   "execution_count": null,
   "metadata": {},
   "outputs": [],
   "source": []
  }
 ],
 "metadata": {
  "kernelspec": {
   "display_name": "Python 3.9.13 ('base')",
   "language": "python",
   "name": "python3"
  },
  "language_info": {
   "codemirror_mode": {
    "name": "ipython",
    "version": 3
   },
   "file_extension": ".py",
   "mimetype": "text/x-python",
   "name": "python",
   "nbconvert_exporter": "python",
   "pygments_lexer": "ipython3",
   "version": "3.9.13"
  },
  "orig_nbformat": 4,
  "vscode": {
   "interpreter": {
    "hash": "8433822212b79f5d8b3452ec504986410bf31415c55c9cbd3d55cd029f0ca8d9"
   }
  }
 },
 "nbformat": 4,
 "nbformat_minor": 2
}
