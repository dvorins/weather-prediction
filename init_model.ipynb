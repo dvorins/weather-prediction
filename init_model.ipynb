{
 "cells": [
  {
   "cell_type": "code",
   "execution_count": 9,
   "metadata": {},
   "outputs": [
    {
     "name": "stdout",
     "output_type": "stream",
     "text": [
      "----------\n",
      "NYC on 2024-03-04 09:55:49.469730\n",
      "NYC Max Temperature: 56.03\n",
      "----------\n",
      "----------\n",
      "Chicago on 2024-03-04 09:55:49.528135\n",
      "Chicago Max Temperature: 62.11\n",
      "----------\n",
      "----------\n",
      "Miami on 2024-03-04 09:55:49.651068\n",
      "Miami Max Temperature: 79.02\n",
      "----------\n",
      "----------\n",
      "Austin on 2024-03-04 09:55:49.723045\n",
      "Austin Max Temperature: 72.19\n",
      "----------\n"
     ]
    }
   ],
   "source": [
    "\"\"\" \n",
    "\n",
    "NYC Elev: 154.0 ft; Lat/Lon: 40.78333°N / -73.96667°W\n",
    "Chi Lat: 41.78°N Lon: -87.76°W Elev: 617ft.\n",
    "Miami Lat: 25.79°N Lon: -80.32°W Elev: 10ft.\n",
    "Austin Lat: 30.18°N Lon: -97.68°W Elev: 486ft. \n",
    "\n",
    "\"\"\"\n",
    "\n",
    "# day 1 - just making API call and taking that choice\n",
    "import http.client\n",
    "import json\n",
    "from datetime import datetime\n",
    "\n",
    "\n",
    "def get_weather(city_name, latitude, longitude):\n",
    "    conn = http.client.HTTPSConnection(\"api.openweathermap.org\")\n",
    "    payload = ''\n",
    "    headers = {}\n",
    "\n",
    "    print('----------')\n",
    "    print(f'{city_name} on {datetime.now()}')\n",
    "    conn.request(\"GET\", f\"/data/2.5/weather?lat={latitude}&lon={longitude}&appid=3f4c2b994a539c4372210a46131f36e2&units=imperial\", payload, headers)\n",
    "    res = conn.getresponse()\n",
    "    data = res.read().decode('utf-8')\n",
    "\n",
    "    # Parsing JSON data\n",
    "    json_data = json.loads(data)\n",
    "\n",
    "    # Extracting temp_max from the parsed JSON data\n",
    "    temp_max = json_data[\"main\"][\"temp_max\"]\n",
    "\n",
    "    print(f'{city_name} Max Temperature:', temp_max)\n",
    "    print('----------')\n",
    "\n",
    "# NYC\n",
    "get_weather('NYC', 40.783, -73.96)\n",
    "\n",
    "# Chicago\n",
    "get_weather('Chicago', 41.78, -87.76)\n",
    "\n",
    "# Miami\n",
    "get_weather('Miami', 25.79, -80.32)\n",
    "\n",
    "# Austin\n",
    "get_weather('Austin', 30.18, -97.68)\n",
    "\n",
    "\n",
    "\n"
   ]
  },
  {
   "cell_type": "code",
   "execution_count": null,
   "metadata": {},
   "outputs": [],
   "source": [
    "import http.client\n",
    "\n",
    "conn = http.client.HTTPSConnection(\"api.tomorrow.io\")\n",
    "payload = ''\n",
    "headers = {}\n",
    "conn.request(\"GET\", \"/v4/weather/forecast?apikey=zITDa7BozjihbZ481cr0ecmAr7addQ1h&location=42.3478,%20-71.0466&timestep=1h\", payload, headers)\n",
    "res = conn.getresponse()\n",
    "data = res.read().decode('utf-8')\n",
    "#print(data)\n",
    "\n",
    "# Parsing JSON data\n",
    "json_data = json.loads(data)\n",
    "\n",
    "    # Save the JSON data to a file\n",
    "filename = 'test_weather_data.json'\n",
    "with open(filename, 'w') as json_file:\n",
    "    json.dump(json_data, json_file, indent=4)\n",
    "    print(f'Data saved to {filename}')\n",
    "#print(json_data['timelines']['daily']['temperatureMax'])\n",
    "\n"
   ]
  },
  {
   "cell_type": "code",
   "execution_count": 24,
   "metadata": {},
   "outputs": [
    {
     "name": "stdout",
     "output_type": "stream",
     "text": [
      "----------\n",
      "NYC on 2024-03-04 10:43:16.902688\n"
     ]
    },
    {
     "ename": "KeyError",
     "evalue": "'timelines'",
     "output_type": "error",
     "traceback": [
      "\u001b[0;31m---------------------------------------------------------------------------\u001b[0m",
      "\u001b[0;31mKeyError\u001b[0m                                  Traceback (most recent call last)",
      "\u001b[0;32m/var/folders/mf/txv8p7fx2yz68v4bx9pfbxf80000gn/T/ipykernel_46350/669215644.py\u001b[0m in \u001b[0;36m<module>\u001b[0;34m\u001b[0m\n\u001b[1;32m     22\u001b[0m \u001b[0;34m\u001b[0m\u001b[0m\n\u001b[1;32m     23\u001b[0m \u001b[0;31m# NYC\u001b[0m\u001b[0;34m\u001b[0m\u001b[0;34m\u001b[0m\u001b[0m\n\u001b[0;32m---> 24\u001b[0;31m \u001b[0mget_weather_tomorrow_io\u001b[0m\u001b[0;34m(\u001b[0m\u001b[0;34m'NYC'\u001b[0m\u001b[0;34m,\u001b[0m \u001b[0;36m40.783\u001b[0m\u001b[0;34m,\u001b[0m \u001b[0;34m-\u001b[0m\u001b[0;36m73.96\u001b[0m\u001b[0;34m)\u001b[0m\u001b[0;34m\u001b[0m\u001b[0;34m\u001b[0m\u001b[0m\n\u001b[0m\u001b[1;32m     25\u001b[0m \u001b[0;34m\u001b[0m\u001b[0m\n\u001b[1;32m     26\u001b[0m \u001b[0;31m# Chicago\u001b[0m\u001b[0;34m\u001b[0m\u001b[0;34m\u001b[0m\u001b[0m\n",
      "\u001b[0;32m/var/folders/mf/txv8p7fx2yz68v4bx9pfbxf80000gn/T/ipykernel_46350/669215644.py\u001b[0m in \u001b[0;36mget_weather_tomorrow_io\u001b[0;34m(city_name, latitude, longitude)\u001b[0m\n\u001b[1;32m     16\u001b[0m     \u001b[0;31m# Parsing JSON data\u001b[0m\u001b[0;34m\u001b[0m\u001b[0;34m\u001b[0m\u001b[0m\n\u001b[1;32m     17\u001b[0m     \u001b[0mjson_data\u001b[0m \u001b[0;34m=\u001b[0m \u001b[0mjson\u001b[0m\u001b[0;34m.\u001b[0m\u001b[0mloads\u001b[0m\u001b[0;34m(\u001b[0m\u001b[0mdata\u001b[0m\u001b[0;34m)\u001b[0m\u001b[0;34m\u001b[0m\u001b[0;34m\u001b[0m\u001b[0m\n\u001b[0;32m---> 18\u001b[0;31m     \u001b[0mtemperature_max\u001b[0m \u001b[0;34m=\u001b[0m \u001b[0mjson_data\u001b[0m\u001b[0;34m[\u001b[0m\u001b[0;34m'timelines'\u001b[0m\u001b[0;34m]\u001b[0m\u001b[0;34m[\u001b[0m\u001b[0;36m0\u001b[0m\u001b[0;34m]\u001b[0m\u001b[0;34m[\u001b[0m\u001b[0;34m'intervals'\u001b[0m\u001b[0;34m]\u001b[0m\u001b[0;34m[\u001b[0m\u001b[0;36m0\u001b[0m\u001b[0;34m]\u001b[0m\u001b[0;34m[\u001b[0m\u001b[0;34m'values'\u001b[0m\u001b[0;34m]\u001b[0m\u001b[0;34m[\u001b[0m\u001b[0;34m'temperature'\u001b[0m\u001b[0;34m]\u001b[0m\u001b[0;34m\u001b[0m\u001b[0;34m\u001b[0m\u001b[0m\n\u001b[0m\u001b[1;32m     19\u001b[0m \u001b[0;34m\u001b[0m\u001b[0m\n\u001b[1;32m     20\u001b[0m     \u001b[0mprint\u001b[0m\u001b[0;34m(\u001b[0m\u001b[0;34mf'{city_name} Max Temperature:'\u001b[0m\u001b[0;34m,\u001b[0m \u001b[0mtemperature_max\u001b[0m\u001b[0;34m)\u001b[0m\u001b[0;34m\u001b[0m\u001b[0;34m\u001b[0m\u001b[0m\n",
      "\u001b[0;31mKeyError\u001b[0m: 'timelines'"
     ]
    }
   ],
   "source": [
    "\n",
    "\n",
    "\n",
    "import http.client\n",
    "import json\n",
    "from datetime import datetime\n",
    "\n",
    "def get_weather_tomorrow_io(city_name, latitude, longitude):\n",
    "    conn = http.client.HTTPSConnection(\"api.tomorrow.io\")\n",
    "    payload = ''\n",
    "    headers = {}\n",
    "\n",
    "    print('----------')\n",
    "    print(f'{city_name} on {datetime.now()}')\n",
    "    conn.request(\"GET\", f\"/v4/weather/forecast?apikey=zITDa7BozjihbZ481cr0ecmAr7addQ1h&location={latitude},{longitude}&timestep=1h\", payload, headers)\n",
    "    res = conn.getresponse()\n",
    "    data = res.read().decode('utf-8')\n",
    "\n",
    "    # Parsing JSON data\n",
    "    json_data = json.loads(data)\n",
    "    temperature_max = json_data['timelines'][0]['intervals'][0]['values']['temperature']\n",
    "\n",
    "    print(f'{city_name} Max Temperature:', temperature_max)\n",
    "    print('----------')\n",
    "\n",
    "# NYC\n",
    "get_weather_tomorrow_io('NYC', 40.783, -73.96)\n",
    "\n",
    "# Chicago\n",
    "get_weather_tomorrow_io('Chicago', 41.78, -87.76)\n",
    "\n",
    "# Miami\n",
    "get_weather_tomorrow_io('Miami', 25.79, -80.32)\n",
    "\n",
    "# Austin\n",
    "get_weather_tomorrow_io('Austin', 30.18, -97.68)\n"
   ]
  },
  {
   "cell_type": "code",
   "execution_count": 49,
   "metadata": {},
   "outputs": [
    {
     "name": "stdout",
     "output_type": "stream",
     "text": [
      "9\n"
     ]
    }
   ],
   "source": [
    "\n",
    "# Specify the file name or path\n",
    "filename_nyc = 'test_weather_data.json'\n",
    "\n",
    "# Load JSON data from the file\n",
    "with open(filename_nyc, 'r') as json_file:\n",
    "    nyc_weather_data = json.load(json_file)\n",
    "\n",
    "\n",
    "print(nyc_weather_data['timelines']['daily'][0]['values']['temperatureMax'])\n",
    "\n",
    "# Now you can use nyc_weather_data in the current cell\n",
    "#print(\"NYC Weather Data:\")\n",
    "#print(json.dumps(nyc_weather_data)"
   ]
  },
  {
   "cell_type": "code",
   "execution_count": null,
   "metadata": {},
   "outputs": [],
   "source": [
    "# notes from 3.4 in class\n",
    "# need to go to website and web scrape public tables (if no API exists)\n",
    "# prob nede to consider relationship between wind, humidty, etc. \n",
    "# more features prob means more accurate \n",
    "# combine with prediction "
   ]
  }
 ],
 "metadata": {
  "kernelspec": {
   "display_name": "Python 3.9.13 ('base')",
   "language": "python",
   "name": "python3"
  },
  "language_info": {
   "codemirror_mode": {
    "name": "ipython",
    "version": 3
   },
   "file_extension": ".py",
   "mimetype": "text/x-python",
   "name": "python",
   "nbconvert_exporter": "python",
   "pygments_lexer": "ipython3",
   "version": "3.9.13"
  },
  "orig_nbformat": 4,
  "vscode": {
   "interpreter": {
    "hash": "8433822212b79f5d8b3452ec504986410bf31415c55c9cbd3d55cd029f0ca8d9"
   }
  }
 },
 "nbformat": 4,
 "nbformat_minor": 2
}
