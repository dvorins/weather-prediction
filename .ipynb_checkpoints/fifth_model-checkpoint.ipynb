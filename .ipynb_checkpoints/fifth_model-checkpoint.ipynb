{
 "cells": [
  {
   "cell_type": "code",
   "execution_count": 1,
   "metadata": {},
   "outputs": [
    {
     "name": "stdout",
     "output_type": "stream",
     "text": [
      "['JFK INTERNATIONAL AIRPORT, NY US'\n",
      " 'AUSTIN BERGSTROM INTERNATIONAL AIRPORT, TX US'\n",
      " 'CHICAGO MIDWAY AIRPORT 3 SW, IL US' 'MIAMI OPA LOCKA AIRPORT, FL US']\n"
     ]
    }
   ],
   "source": [
    "'''   \n",
    "\n",
    "following noaa processing workflow from https://github.com/dataquestio/project-walkthroughs/blob/master/weather/weather.ipynb\n",
    "\n",
    "'''\n",
    "\n",
    "\n",
    "import pandas as pd\n",
    "\n",
    "# Read the first CSV file into a DataFrame\n",
    "df1 = pd.read_csv('noaa_jfk_data.csv')\n",
    "\n",
    "# Read the second CSV file into another DataFrame\n",
    "df2 = pd.read_csv('/Users/samdvorin/Desktop/code/542/weather-prediction/noaa_chi_aus_mia.csv')\n",
    "\n",
    "# Concatenate the two DataFrames vertically (row-wise)\n",
    "combined_df = pd.concat([df1, df2], ignore_index=True)\n",
    "\n",
    "print(combined_df['NAME'].unique())\n",
    "\n",
    "\n",
    "\n"
   ]
  },
  {
   "cell_type": "code",
   "execution_count": 4,
   "metadata": {},
   "outputs": [],
   "source": [
    "core_weather = combined_df[[\"NAME\", \"DATE\", \"PRCP\", \"SNOW\", \"SNWD\", \"TMAX\", \"TMIN\"]].copy()\n",
    "core_weather.columns = [\"name\", \"date\", \"precip\", \"snow\", \"snow_depth\", \"temp_max\", \"temp_min\"]\n",
    "\n",
    "\n"
   ]
  },
  {
   "cell_type": "code",
   "execution_count": 5,
   "metadata": {},
   "outputs": [
    {
     "data": {
      "text/plain": [
       "name             0\n",
       "date             0\n",
       "precip        3251\n",
       "snow          9796\n",
       "snow_depth    9752\n",
       "temp_max       249\n",
       "temp_min       312\n",
       "dtype: int64"
      ]
     },
     "execution_count": 5,
     "metadata": {},
     "output_type": "execute_result"
    }
   ],
   "source": [
    "core_weather.apply(pd.isnull).sum()"
   ]
  },
  {
   "cell_type": "code",
   "execution_count": 6,
   "metadata": {},
   "outputs": [
    {
     "data": {
      "text/plain": [
       "name          0\n",
       "date          0\n",
       "precip        0\n",
       "snow          0\n",
       "snow_depth    0\n",
       "temp_max      0\n",
       "temp_min      0\n",
       "dtype: int64"
      ]
     },
     "execution_count": 6,
     "metadata": {},
     "output_type": "execute_result"
    }
   ],
   "source": [
    "# Check for missing value defined in data documentation\n",
    "core_weather.apply(lambda x: (x == 9999).sum())"
   ]
  },
  {
   "cell_type": "code",
   "execution_count": 7,
   "metadata": {},
   "outputs": [
    {
     "name": "stdout",
     "output_type": "stream",
     "text": [
      "                                        name  precip  snow  snow_depth  \\\n",
      "date                                                                     \n",
      "1948-07-17  JFK INTERNATIONAL AIRPORT, NY US    0.06   0.0         0.0   \n",
      "1948-07-18  JFK INTERNATIONAL AIRPORT, NY US    0.00   0.0         0.0   \n",
      "1948-07-19  JFK INTERNATIONAL AIRPORT, NY US    0.00   0.0         0.0   \n",
      "1948-07-20  JFK INTERNATIONAL AIRPORT, NY US    0.00   0.0         0.0   \n",
      "1948-07-21  JFK INTERNATIONAL AIRPORT, NY US    2.45   0.0         0.0   \n",
      "\n",
      "            temp_max  temp_min  \n",
      "date                            \n",
      "1948-07-17      74.0      64.0  \n",
      "1948-07-18      81.0      70.0  \n",
      "1948-07-19      85.0      70.0  \n",
      "1948-07-20      84.0      69.0  \n",
      "1948-07-21      85.0      71.0  \n"
     ]
    }
   ],
   "source": [
    "# Convert the 'date_column' to datetime if it's not already\n",
    "core_weather['date'] = pd.to_datetime(core_weather['date'])\n",
    "\n",
    "# Set the 'date_column' as the index\n",
    "core_weather.set_index('date', inplace=True, drop=True)\n",
    "\n",
    "print(core_weather.head())"
   ]
  },
  {
   "cell_type": "code",
   "execution_count": 8,
   "metadata": {},
   "outputs": [],
   "source": [
    "import pandas as pd\n",
    "\n",
    "# Assuming 'core_weather' is your DataFrame\n",
    "\n",
    "# Get distinct values in the \"name\" column\n",
    "distinct_names = core_weather['name'].unique()\n",
    "\n",
    "# Create a dictionary to store DataFrames for each distinct name\n",
    "city_data = {}\n",
    "\n",
    "# Mapping of original names to desired abbreviations\n",
    "name_to_abbreviation = {\n",
    "    'JFK INTERNATIONAL AIRPORT, NY US': 'nyc',\n",
    "    'AUSTIN BERGSTROM INTERNATIONAL AIRPORT, TX US': 'aus',\n",
    "    'CHICAGO MIDWAY AIRPORT 3 SW, IL US': 'chi',\n",
    "    'MIAMI OPA LOCKA AIRPORT, FL US': 'mia'\n",
    "}\n",
    "\n",
    "# Iterate over each distinct name and create a separate DataFrame for it\n",
    "for name in distinct_names:\n",
    "    # Select rows where the 'name' column matches the current distinct name\n",
    "    df_for_name = core_weather[core_weather['name'] == name].copy()\n",
    "    # Use the mapping to change the key\n",
    "    city_data[name_to_abbreviation[name]] = df_for_name\n",
    "\n",
    "# Now 'dataframes_by_name' contains separate DataFrames for each distinct name\n",
    "# Keys are now the desired abbreviations\n"
   ]
  },
  {
   "cell_type": "code",
   "execution_count": null,
   "metadata": {},
   "outputs": [],
   "source": [
    "city_data['nyc'][[\"temp_max\", \"temp_min\"]].plot()"
   ]
  },
  {
   "cell_type": "code",
   "execution_count": 9,
   "metadata": {},
   "outputs": [],
   "source": [
    "# Iterate over each DataFrame in dataframes_by_name and apply the operation\n",
    "for name, df in city_data.items():\n",
    "    # Apply the operation to create the \"target\" column\n",
    "    df[\"target\"] = df.shift(-1)[\"temp_max\"]\n",
    "    df = df.iloc[:-1,:].copy()\n",
    "\n"
   ]
  },
  {
   "cell_type": "code",
   "execution_count": 10,
   "metadata": {},
   "outputs": [
    {
     "data": {
      "text/html": [
       "<div>\n",
       "<style scoped>\n",
       "    .dataframe tbody tr th:only-of-type {\n",
       "        vertical-align: middle;\n",
       "    }\n",
       "\n",
       "    .dataframe tbody tr th {\n",
       "        vertical-align: top;\n",
       "    }\n",
       "\n",
       "    .dataframe thead th {\n",
       "        text-align: right;\n",
       "    }\n",
       "</style>\n",
       "<table border=\"1\" class=\"dataframe\">\n",
       "  <thead>\n",
       "    <tr style=\"text-align: right;\">\n",
       "      <th></th>\n",
       "      <th>name</th>\n",
       "      <th>precip</th>\n",
       "      <th>snow</th>\n",
       "      <th>snow_depth</th>\n",
       "      <th>temp_max</th>\n",
       "      <th>temp_min</th>\n",
       "      <th>target</th>\n",
       "    </tr>\n",
       "    <tr>\n",
       "      <th>date</th>\n",
       "      <th></th>\n",
       "      <th></th>\n",
       "      <th></th>\n",
       "      <th></th>\n",
       "      <th></th>\n",
       "      <th></th>\n",
       "      <th></th>\n",
       "    </tr>\n",
       "  </thead>\n",
       "  <tbody>\n",
       "    <tr>\n",
       "      <th>1948-07-17</th>\n",
       "      <td>JFK INTERNATIONAL AIRPORT, NY US</td>\n",
       "      <td>0.06</td>\n",
       "      <td>0.0</td>\n",
       "      <td>0.0</td>\n",
       "      <td>74.0</td>\n",
       "      <td>64.0</td>\n",
       "      <td>81.0</td>\n",
       "    </tr>\n",
       "    <tr>\n",
       "      <th>1948-07-18</th>\n",
       "      <td>JFK INTERNATIONAL AIRPORT, NY US</td>\n",
       "      <td>0.00</td>\n",
       "      <td>0.0</td>\n",
       "      <td>0.0</td>\n",
       "      <td>81.0</td>\n",
       "      <td>70.0</td>\n",
       "      <td>85.0</td>\n",
       "    </tr>\n",
       "    <tr>\n",
       "      <th>1948-07-19</th>\n",
       "      <td>JFK INTERNATIONAL AIRPORT, NY US</td>\n",
       "      <td>0.00</td>\n",
       "      <td>0.0</td>\n",
       "      <td>0.0</td>\n",
       "      <td>85.0</td>\n",
       "      <td>70.0</td>\n",
       "      <td>84.0</td>\n",
       "    </tr>\n",
       "    <tr>\n",
       "      <th>1948-07-20</th>\n",
       "      <td>JFK INTERNATIONAL AIRPORT, NY US</td>\n",
       "      <td>0.00</td>\n",
       "      <td>0.0</td>\n",
       "      <td>0.0</td>\n",
       "      <td>84.0</td>\n",
       "      <td>69.0</td>\n",
       "      <td>85.0</td>\n",
       "    </tr>\n",
       "    <tr>\n",
       "      <th>1948-07-21</th>\n",
       "      <td>JFK INTERNATIONAL AIRPORT, NY US</td>\n",
       "      <td>2.45</td>\n",
       "      <td>0.0</td>\n",
       "      <td>0.0</td>\n",
       "      <td>85.0</td>\n",
       "      <td>71.0</td>\n",
       "      <td>81.0</td>\n",
       "    </tr>\n",
       "    <tr>\n",
       "      <th>...</th>\n",
       "      <td>...</td>\n",
       "      <td>...</td>\n",
       "      <td>...</td>\n",
       "      <td>...</td>\n",
       "      <td>...</td>\n",
       "      <td>...</td>\n",
       "      <td>...</td>\n",
       "    </tr>\n",
       "    <tr>\n",
       "      <th>2024-03-10</th>\n",
       "      <td>JFK INTERNATIONAL AIRPORT, NY US</td>\n",
       "      <td>0.03</td>\n",
       "      <td>0.0</td>\n",
       "      <td>0.0</td>\n",
       "      <td>53.0</td>\n",
       "      <td>37.0</td>\n",
       "      <td>53.0</td>\n",
       "    </tr>\n",
       "    <tr>\n",
       "      <th>2024-03-11</th>\n",
       "      <td>JFK INTERNATIONAL AIRPORT, NY US</td>\n",
       "      <td>0.00</td>\n",
       "      <td>0.0</td>\n",
       "      <td>0.0</td>\n",
       "      <td>53.0</td>\n",
       "      <td>35.0</td>\n",
       "      <td>67.0</td>\n",
       "    </tr>\n",
       "    <tr>\n",
       "      <th>2024-03-12</th>\n",
       "      <td>JFK INTERNATIONAL AIRPORT, NY US</td>\n",
       "      <td>0.00</td>\n",
       "      <td>0.0</td>\n",
       "      <td>0.0</td>\n",
       "      <td>67.0</td>\n",
       "      <td>41.0</td>\n",
       "      <td>57.0</td>\n",
       "    </tr>\n",
       "    <tr>\n",
       "      <th>2024-03-13</th>\n",
       "      <td>JFK INTERNATIONAL AIRPORT, NY US</td>\n",
       "      <td>0.00</td>\n",
       "      <td>NaN</td>\n",
       "      <td>NaN</td>\n",
       "      <td>57.0</td>\n",
       "      <td>41.0</td>\n",
       "      <td>NaN</td>\n",
       "    </tr>\n",
       "    <tr>\n",
       "      <th>2024-03-14</th>\n",
       "      <td>JFK INTERNATIONAL AIRPORT, NY US</td>\n",
       "      <td>NaN</td>\n",
       "      <td>NaN</td>\n",
       "      <td>NaN</td>\n",
       "      <td>NaN</td>\n",
       "      <td>NaN</td>\n",
       "      <td>NaN</td>\n",
       "    </tr>\n",
       "  </tbody>\n",
       "</table>\n",
       "<p>27635 rows × 7 columns</p>\n",
       "</div>"
      ],
      "text/plain": [
       "                                        name  precip  snow  snow_depth  \\\n",
       "date                                                                     \n",
       "1948-07-17  JFK INTERNATIONAL AIRPORT, NY US    0.06   0.0         0.0   \n",
       "1948-07-18  JFK INTERNATIONAL AIRPORT, NY US    0.00   0.0         0.0   \n",
       "1948-07-19  JFK INTERNATIONAL AIRPORT, NY US    0.00   0.0         0.0   \n",
       "1948-07-20  JFK INTERNATIONAL AIRPORT, NY US    0.00   0.0         0.0   \n",
       "1948-07-21  JFK INTERNATIONAL AIRPORT, NY US    2.45   0.0         0.0   \n",
       "...                                      ...     ...   ...         ...   \n",
       "2024-03-10  JFK INTERNATIONAL AIRPORT, NY US    0.03   0.0         0.0   \n",
       "2024-03-11  JFK INTERNATIONAL AIRPORT, NY US    0.00   0.0         0.0   \n",
       "2024-03-12  JFK INTERNATIONAL AIRPORT, NY US    0.00   0.0         0.0   \n",
       "2024-03-13  JFK INTERNATIONAL AIRPORT, NY US    0.00   NaN         NaN   \n",
       "2024-03-14  JFK INTERNATIONAL AIRPORT, NY US     NaN   NaN         NaN   \n",
       "\n",
       "            temp_max  temp_min  target  \n",
       "date                                    \n",
       "1948-07-17      74.0      64.0    81.0  \n",
       "1948-07-18      81.0      70.0    85.0  \n",
       "1948-07-19      85.0      70.0    84.0  \n",
       "1948-07-20      84.0      69.0    85.0  \n",
       "1948-07-21      85.0      71.0    81.0  \n",
       "...              ...       ...     ...  \n",
       "2024-03-10      53.0      37.0    53.0  \n",
       "2024-03-11      53.0      35.0    67.0  \n",
       "2024-03-12      67.0      41.0    57.0  \n",
       "2024-03-13      57.0      41.0     NaN  \n",
       "2024-03-14       NaN       NaN     NaN  \n",
       "\n",
       "[27635 rows x 7 columns]"
      ]
     },
     "execution_count": 10,
     "metadata": {},
     "output_type": "execute_result"
    }
   ],
   "source": [
    "testdf = city_data['nyc'].copy()\n",
    "testdf"
   ]
  },
  {
   "cell_type": "code",
   "execution_count": 16,
   "metadata": {},
   "outputs": [
    {
     "name": "stdout",
     "output_type": "stream",
     "text": [
      "Index(['name', 'precip', 'snow', 'snow_depth', 'temp_max', 'temp_min',\n",
      "       'target', 'year', 'month', 'day'],\n",
      "      dtype='object')\n"
     ]
    }
   ],
   "source": [
    "#testdf.drop(columns=[\"name\"], inplace=True)\n",
    "testdf['year'] = testdf.index.year\n",
    "# Regularize the year to start at 0 from 1948\n",
    "testdf['year'] = testdf['year'] - 1948\n",
    "testdf['month'] = testdf.index.month\n",
    "testdf['day'] = testdf.index.day\n",
    "print(testdf.columns)"
   ]
  },
  {
   "cell_type": "code",
   "execution_count": null,
   "metadata": {},
   "outputs": [],
   "source": [
    "import os\n",
    "import datetime\n",
    "\n",
    "import IPython\n",
    "import IPython.display\n",
    "import matplotlib as mpl\n",
    "import matplotlib.pyplot as plt\n",
    "import numpy as np\n",
    "import pandas as pd\n",
    "import seaborn as sns\n",
    "import tensorflow as tf\n",
    "\n"
   ]
  },
  {
   "cell_type": "code",
   "execution_count": null,
   "metadata": {},
   "outputs": [],
   "source": []
  },
  {
   "cell_type": "code",
   "execution_count": null,
   "metadata": {},
   "outputs": [],
   "source": []
  },
  {
   "cell_type": "code",
   "execution_count": null,
   "metadata": {},
   "outputs": [],
   "source": []
  }
 ],
 "metadata": {
  "kernelspec": {
   "display_name": "Python 3 (ipykernel)",
   "language": "python",
   "name": "python3"
  },
  "language_info": {
   "codemirror_mode": {
    "name": "ipython",
    "version": 3
   },
   "file_extension": ".py",
   "mimetype": "text/x-python",
   "name": "python",
   "nbconvert_exporter": "python",
   "pygments_lexer": "ipython3",
   "version": "3.9.13"
  },
  "vscode": {
   "interpreter": {
    "hash": "8433822212b79f5d8b3452ec504986410bf31415c55c9cbd3d55cd029f0ca8d9"
   }
  }
 },
 "nbformat": 4,
 "nbformat_minor": 2
}
